{
 "cells": [
  {
   "cell_type": "code",
   "execution_count": 1,
   "metadata": {},
   "outputs": [
    {
     "name": "stdout",
     "output_type": "stream",
     "text": [
      "good morning\n"
     ]
    }
   ],
   "source": [
    "print('good morning')"
   ]
  },
  {
   "cell_type": "code",
   "execution_count": 4,
   "metadata": {},
   "outputs": [
    {
     "data": {
      "text/plain": [
       "{1, 3, 5, 7, 9, 10}"
      ]
     },
     "execution_count": 4,
     "metadata": {},
     "output_type": "execute_result"
    }
   ],
   "source": [
    "set1:set = {1,1,3,3,5,8,7,9,10}\n",
    "set1.add(11)"
   ]
  },
  {
   "cell_type": "code",
   "execution_count": 6,
   "metadata": {},
   "outputs": [
    {
     "name": "stdout",
     "output_type": "stream",
     "text": [
      "1\n",
      "3\n",
      "5\n",
      "7\n",
      "9\n",
      "10\n"
     ]
    }
   ],
   "source": [
    "for value in set1:\n",
    "    print(value)"
   ]
  },
  {
   "cell_type": "code",
   "execution_count": 8,
   "metadata": {},
   "outputs": [],
   "source": [
    "import numpy as np\n",
    "array1:np.ndarray = np.array(range(1,11))\n",
    "array1 = 10"
   ]
  },
  {
   "cell_type": "code",
   "execution_count": 10,
   "metadata": {},
   "outputs": [
    {
     "ename": "TypeError",
     "evalue": "Cannot interpret '0.1' as a data type",
     "output_type": "error",
     "traceback": [
      "\u001b[0;31m---------------------------------------------------------------------------\u001b[0m",
      "\u001b[0;31mTypeError\u001b[0m                                 Traceback (most recent call last)",
      "Cell \u001b[0;32mIn[10], line 1\u001b[0m\n\u001b[0;32m----> 1\u001b[0m display(np\u001b[39m.\u001b[39;49marange(\u001b[39m1\u001b[39;49m,\u001b[39m3\u001b[39;49m,\u001b[39m3.5\u001b[39;49m,\u001b[39m0.1\u001b[39;49m))\n\u001b[1;32m      2\u001b[0m display(np\u001b[39m.\u001b[39mlinspace(\u001b[39m1\u001b[39m,\u001b[39m2\u001b[39m,\u001b[39m20\u001b[39m))\n",
      "\u001b[0;31mTypeError\u001b[0m: Cannot interpret '0.1' as a data type"
     ]
    }
   ],
   "source": [
    "display(np.arange(1,3,3.5,0.1))\n",
    "display(np.linspace(1,2,20))\n"
   ]
  },
  {
   "cell_type": "code",
   "execution_count": 11,
   "metadata": {},
   "outputs": [
    {
     "ename": "SyntaxError",
     "evalue": "invalid syntax (4217934883.py, line 1)",
     "output_type": "error",
     "traceback": [
      "\u001b[0;36m  Cell \u001b[0;32mIn[11], line 1\u001b[0;36m\u001b[0m\n\u001b[0;31m    import numpy aw np\u001b[0m\n\u001b[0m                 ^\u001b[0m\n\u001b[0;31mSyntaxError\u001b[0m\u001b[0;31m:\u001b[0m invalid syntax\n"
     ]
    }
   ],
   "source": [
    "import numpy as np\n",
    "import matplotlib.pyplot as plt"
   ]
  },
  {
   "cell_type": "code",
   "execution_count": 3,
   "metadata": {},
   "outputs": [
    {
     "data": {
      "text/plain": [
       "學生1     398\n",
       "學生2     333\n",
       "學生3     308\n",
       "學生4     353\n",
       "學生5     371\n",
       "學生6     350\n",
       "學生7     391\n",
       "學生8     335\n",
       "學生9     312\n",
       "學生10    336\n",
       "dtype: int64"
      ]
     },
     "metadata": {},
     "output_type": "display_data"
    },
    {
     "data": {
      "text/plain": [
       "array([298, 233, 208, 253, 271, 250, 291, 235, 212, 236])"
      ]
     },
     "metadata": {},
     "output_type": "display_data"
    },
    {
     "data": {
      "text/plain": [
       "Index(['學生1', '學生2', '學生3', '學生4', '學生5', '學生6', '學生7', '學生8', '學生9', '學生10'], dtype='object')"
      ]
     },
     "metadata": {},
     "output_type": "display_data"
    }
   ],
   "source": [
    "import numpy as np\n",
    "import pandas as pd\n",
    "\n",
    "n1 = np.random.randint(200,300,size=(10,))\n",
    "s1 = pd. Series(data=n1,index=[f\"學生{i+1}\" for i in range(10)])\n",
    "display(s1+100)\n",
    "display(s1.values)\n",
    "display(s1.index)"
   ]
  },
  {
   "cell_type": "code",
   "execution_count": 1,
   "metadata": {},
   "outputs": [
    {
     "data": {
      "text/html": [
       "<div>\n",
       "<style scoped>\n",
       "    .dataframe tbody tr th:only-of-type {\n",
       "        vertical-align: middle;\n",
       "    }\n",
       "\n",
       "    .dataframe tbody tr th {\n",
       "        vertical-align: top;\n",
       "    }\n",
       "\n",
       "    .dataframe thead th {\n",
       "        text-align: right;\n",
       "    }\n",
       "</style>\n",
       "<table border=\"1\" class=\"dataframe\">\n",
       "  <thead>\n",
       "    <tr style=\"text-align: right;\">\n",
       "      <th></th>\n",
       "      <th>城市</th>\n",
       "      <th>啟始時間</th>\n",
       "      <th>結束時間</th>\n",
       "      <th>最高溫度</th>\n",
       "      <th>最低溫度</th>\n",
       "      <th>感覺</th>\n",
       "    </tr>\n",
       "  </thead>\n",
       "  <tbody>\n",
       "    <tr>\n",
       "      <th>0</th>\n",
       "      <td>臺北市</td>\n",
       "      <td>2023-08-05T12:00:00+08:00</td>\n",
       "      <td>2023-08-05T18:00:00+08:00</td>\n",
       "      <td>35.0</td>\n",
       "      <td>32.0</td>\n",
       "      <td>悶熱至易中暑</td>\n",
       "    </tr>\n",
       "    <tr>\n",
       "      <th>1</th>\n",
       "      <td>新北市</td>\n",
       "      <td>2023-08-05T12:00:00+08:00</td>\n",
       "      <td>2023-08-05T18:00:00+08:00</td>\n",
       "      <td>34.0</td>\n",
       "      <td>31.0</td>\n",
       "      <td>悶熱</td>\n",
       "    </tr>\n",
       "    <tr>\n",
       "      <th>2</th>\n",
       "      <td>桃園市</td>\n",
       "      <td>2023-08-05T12:00:00+08:00</td>\n",
       "      <td>2023-08-05T18:00:00+08:00</td>\n",
       "      <td>34.0</td>\n",
       "      <td>31.0</td>\n",
       "      <td>悶熱</td>\n",
       "    </tr>\n",
       "    <tr>\n",
       "      <th>3</th>\n",
       "      <td>臺中市</td>\n",
       "      <td>2023-08-05T12:00:00+08:00</td>\n",
       "      <td>2023-08-05T18:00:00+08:00</td>\n",
       "      <td>32.0</td>\n",
       "      <td>30.0</td>\n",
       "      <td>悶熱</td>\n",
       "    </tr>\n",
       "    <tr>\n",
       "      <th>4</th>\n",
       "      <td>臺南市</td>\n",
       "      <td>2023-08-05T12:00:00+08:00</td>\n",
       "      <td>2023-08-05T18:00:00+08:00</td>\n",
       "      <td>29.0</td>\n",
       "      <td>28.0</td>\n",
       "      <td>悶熱</td>\n",
       "    </tr>\n",
       "    <tr>\n",
       "      <th>5</th>\n",
       "      <td>高雄市</td>\n",
       "      <td>2023-08-05T12:00:00+08:00</td>\n",
       "      <td>2023-08-05T18:00:00+08:00</td>\n",
       "      <td>30.0</td>\n",
       "      <td>29.0</td>\n",
       "      <td>悶熱</td>\n",
       "    </tr>\n",
       "    <tr>\n",
       "      <th>6</th>\n",
       "      <td>基隆市</td>\n",
       "      <td>2023-08-05T12:00:00+08:00</td>\n",
       "      <td>2023-08-05T18:00:00+08:00</td>\n",
       "      <td>34.0</td>\n",
       "      <td>32.0</td>\n",
       "      <td>悶熱</td>\n",
       "    </tr>\n",
       "    <tr>\n",
       "      <th>7</th>\n",
       "      <td>新竹縣</td>\n",
       "      <td>2023-08-05T12:00:00+08:00</td>\n",
       "      <td>2023-08-05T18:00:00+08:00</td>\n",
       "      <td>33.0</td>\n",
       "      <td>31.0</td>\n",
       "      <td>悶熱</td>\n",
       "    </tr>\n",
       "    <tr>\n",
       "      <th>8</th>\n",
       "      <td>新竹市</td>\n",
       "      <td>2023-08-05T12:00:00+08:00</td>\n",
       "      <td>2023-08-05T18:00:00+08:00</td>\n",
       "      <td>32.0</td>\n",
       "      <td>31.0</td>\n",
       "      <td>悶熱</td>\n",
       "    </tr>\n",
       "    <tr>\n",
       "      <th>9</th>\n",
       "      <td>苗栗縣</td>\n",
       "      <td>2023-08-05T12:00:00+08:00</td>\n",
       "      <td>2023-08-05T18:00:00+08:00</td>\n",
       "      <td>32.0</td>\n",
       "      <td>30.0</td>\n",
       "      <td>悶熱</td>\n",
       "    </tr>\n",
       "    <tr>\n",
       "      <th>10</th>\n",
       "      <td>彰化縣</td>\n",
       "      <td>2023-08-05T12:00:00+08:00</td>\n",
       "      <td>2023-08-05T18:00:00+08:00</td>\n",
       "      <td>31.0</td>\n",
       "      <td>29.0</td>\n",
       "      <td>悶熱</td>\n",
       "    </tr>\n",
       "    <tr>\n",
       "      <th>11</th>\n",
       "      <td>南投縣</td>\n",
       "      <td>2023-08-05T12:00:00+08:00</td>\n",
       "      <td>2023-08-05T18:00:00+08:00</td>\n",
       "      <td>32.0</td>\n",
       "      <td>29.0</td>\n",
       "      <td>悶熱</td>\n",
       "    </tr>\n",
       "    <tr>\n",
       "      <th>12</th>\n",
       "      <td>雲林縣</td>\n",
       "      <td>2023-08-05T12:00:00+08:00</td>\n",
       "      <td>2023-08-05T18:00:00+08:00</td>\n",
       "      <td>31.0</td>\n",
       "      <td>28.0</td>\n",
       "      <td>悶熱</td>\n",
       "    </tr>\n",
       "    <tr>\n",
       "      <th>13</th>\n",
       "      <td>嘉義縣</td>\n",
       "      <td>2023-08-05T12:00:00+08:00</td>\n",
       "      <td>2023-08-05T18:00:00+08:00</td>\n",
       "      <td>30.0</td>\n",
       "      <td>28.0</td>\n",
       "      <td>悶熱</td>\n",
       "    </tr>\n",
       "    <tr>\n",
       "      <th>14</th>\n",
       "      <td>嘉義市</td>\n",
       "      <td>2023-08-05T12:00:00+08:00</td>\n",
       "      <td>2023-08-05T18:00:00+08:00</td>\n",
       "      <td>30.0</td>\n",
       "      <td>27.0</td>\n",
       "      <td>舒適至悶熱</td>\n",
       "    </tr>\n",
       "    <tr>\n",
       "      <th>15</th>\n",
       "      <td>屏東縣</td>\n",
       "      <td>2023-08-05T12:00:00+08:00</td>\n",
       "      <td>2023-08-05T18:00:00+08:00</td>\n",
       "      <td>29.0</td>\n",
       "      <td>27.0</td>\n",
       "      <td>悶熱</td>\n",
       "    </tr>\n",
       "    <tr>\n",
       "      <th>16</th>\n",
       "      <td>宜蘭縣</td>\n",
       "      <td>2023-08-05T12:00:00+08:00</td>\n",
       "      <td>2023-08-05T18:00:00+08:00</td>\n",
       "      <td>35.0</td>\n",
       "      <td>32.0</td>\n",
       "      <td>悶熱至易中暑</td>\n",
       "    </tr>\n",
       "    <tr>\n",
       "      <th>17</th>\n",
       "      <td>花蓮縣</td>\n",
       "      <td>2023-08-05T12:00:00+08:00</td>\n",
       "      <td>2023-08-05T18:00:00+08:00</td>\n",
       "      <td>32.0</td>\n",
       "      <td>31.0</td>\n",
       "      <td>悶熱</td>\n",
       "    </tr>\n",
       "    <tr>\n",
       "      <th>18</th>\n",
       "      <td>臺東縣</td>\n",
       "      <td>2023-08-05T12:00:00+08:00</td>\n",
       "      <td>2023-08-05T18:00:00+08:00</td>\n",
       "      <td>32.0</td>\n",
       "      <td>30.0</td>\n",
       "      <td>悶熱</td>\n",
       "    </tr>\n",
       "    <tr>\n",
       "      <th>19</th>\n",
       "      <td>澎湖縣</td>\n",
       "      <td>2023-08-05T12:00:00+08:00</td>\n",
       "      <td>2023-08-05T18:00:00+08:00</td>\n",
       "      <td>31.0</td>\n",
       "      <td>29.0</td>\n",
       "      <td>悶熱</td>\n",
       "    </tr>\n",
       "    <tr>\n",
       "      <th>20</th>\n",
       "      <td>金門縣</td>\n",
       "      <td>2023-08-05T12:00:00+08:00</td>\n",
       "      <td>2023-08-05T18:00:00+08:00</td>\n",
       "      <td>34.0</td>\n",
       "      <td>30.0</td>\n",
       "      <td>悶熱至易中暑</td>\n",
       "    </tr>\n",
       "    <tr>\n",
       "      <th>21</th>\n",
       "      <td>連江縣</td>\n",
       "      <td>2023-08-05T12:00:00+08:00</td>\n",
       "      <td>2023-08-05T18:00:00+08:00</td>\n",
       "      <td>32.0</td>\n",
       "      <td>29.0</td>\n",
       "      <td>悶熱至易中暑</td>\n",
       "    </tr>\n",
       "  </tbody>\n",
       "</table>\n",
       "</div>"
      ],
      "text/plain": [
       "     城市                       啟始時間                       結束時間  最高溫度  最低溫度  \\\n",
       "0   臺北市  2023-08-05T12:00:00+08:00  2023-08-05T18:00:00+08:00  35.0  32.0   \n",
       "1   新北市  2023-08-05T12:00:00+08:00  2023-08-05T18:00:00+08:00  34.0  31.0   \n",
       "2   桃園市  2023-08-05T12:00:00+08:00  2023-08-05T18:00:00+08:00  34.0  31.0   \n",
       "3   臺中市  2023-08-05T12:00:00+08:00  2023-08-05T18:00:00+08:00  32.0  30.0   \n",
       "4   臺南市  2023-08-05T12:00:00+08:00  2023-08-05T18:00:00+08:00  29.0  28.0   \n",
       "5   高雄市  2023-08-05T12:00:00+08:00  2023-08-05T18:00:00+08:00  30.0  29.0   \n",
       "6   基隆市  2023-08-05T12:00:00+08:00  2023-08-05T18:00:00+08:00  34.0  32.0   \n",
       "7   新竹縣  2023-08-05T12:00:00+08:00  2023-08-05T18:00:00+08:00  33.0  31.0   \n",
       "8   新竹市  2023-08-05T12:00:00+08:00  2023-08-05T18:00:00+08:00  32.0  31.0   \n",
       "9   苗栗縣  2023-08-05T12:00:00+08:00  2023-08-05T18:00:00+08:00  32.0  30.0   \n",
       "10  彰化縣  2023-08-05T12:00:00+08:00  2023-08-05T18:00:00+08:00  31.0  29.0   \n",
       "11  南投縣  2023-08-05T12:00:00+08:00  2023-08-05T18:00:00+08:00  32.0  29.0   \n",
       "12  雲林縣  2023-08-05T12:00:00+08:00  2023-08-05T18:00:00+08:00  31.0  28.0   \n",
       "13  嘉義縣  2023-08-05T12:00:00+08:00  2023-08-05T18:00:00+08:00  30.0  28.0   \n",
       "14  嘉義市  2023-08-05T12:00:00+08:00  2023-08-05T18:00:00+08:00  30.0  27.0   \n",
       "15  屏東縣  2023-08-05T12:00:00+08:00  2023-08-05T18:00:00+08:00  29.0  27.0   \n",
       "16  宜蘭縣  2023-08-05T12:00:00+08:00  2023-08-05T18:00:00+08:00  35.0  32.0   \n",
       "17  花蓮縣  2023-08-05T12:00:00+08:00  2023-08-05T18:00:00+08:00  32.0  31.0   \n",
       "18  臺東縣  2023-08-05T12:00:00+08:00  2023-08-05T18:00:00+08:00  32.0  30.0   \n",
       "19  澎湖縣  2023-08-05T12:00:00+08:00  2023-08-05T18:00:00+08:00  31.0  29.0   \n",
       "20  金門縣  2023-08-05T12:00:00+08:00  2023-08-05T18:00:00+08:00  34.0  30.0   \n",
       "21  連江縣  2023-08-05T12:00:00+08:00  2023-08-05T18:00:00+08:00  32.0  29.0   \n",
       "\n",
       "        感覺  \n",
       "0   悶熱至易中暑  \n",
       "1       悶熱  \n",
       "2       悶熱  \n",
       "3       悶熱  \n",
       "4       悶熱  \n",
       "5       悶熱  \n",
       "6       悶熱  \n",
       "7       悶熱  \n",
       "8       悶熱  \n",
       "9       悶熱  \n",
       "10      悶熱  \n",
       "11      悶熱  \n",
       "12      悶熱  \n",
       "13      悶熱  \n",
       "14   舒適至悶熱  \n",
       "15      悶熱  \n",
       "16  悶熱至易中暑  \n",
       "17      悶熱  \n",
       "18      悶熱  \n",
       "19      悶熱  \n",
       "20  悶熱至易中暑  \n",
       "21  悶熱至易中暑  "
      ]
     },
     "execution_count": 1,
     "metadata": {},
     "output_type": "execute_result"
    }
   ],
   "source": [
    "import pandas as pd\n",
    "pd.read_csv('目前天氣.csv')"
   ]
  }
 ],
 "metadata": {
  "kernelspec": {
   "display_name": "Python 3",
   "language": "python",
   "name": "python3"
  },
  "language_info": {
   "codemirror_mode": {
    "name": "ipython",
    "version": 3
   },
   "file_extension": ".py",
   "mimetype": "text/x-python",
   "name": "python",
   "nbconvert_exporter": "python",
   "pygments_lexer": "ipython3",
   "version": "3.10.12"
  },
  "orig_nbformat": 4
 },
 "nbformat": 4,
 "nbformat_minor": 2
}
