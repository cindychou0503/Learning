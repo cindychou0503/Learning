{
 "cells": [
  {
   "cell_type": "code",
   "execution_count": 5,
   "metadata": {},
   "outputs": [
    {
     "name": "stdout",
     "output_type": "stream",
     "text": [
      "good morning\n"
     ]
    }
   ],
   "source": [
    "print('good morning')"
   ]
  },
  {
   "cell_type": "code",
   "execution_count": 6,
   "metadata": {},
   "outputs": [
    {
     "data": {
      "text/plain": [
       "(404, 'error')"
      ]
     },
     "execution_count": 6,
     "metadata": {},
     "output_type": "execute_result"
    }
   ],
   "source": [
    "(404, \"error\")"
   ]
  },
  {
   "cell_type": "code",
   "execution_count": 8,
   "metadata": {},
   "outputs": [],
   "source": [
    "def get_tuple():\n",
    "    return(404, \"error\")"
   ]
  },
  {
   "cell_type": "code",
   "execution_count": 9,
   "metadata": {},
   "outputs": [
    {
     "name": "stdout",
     "output_type": "stream",
     "text": [
      "404\n",
      "error\n"
     ]
    }
   ],
   "source": [
    "#tuple拆解法\n",
    "\n",
    "(code,message) = get_tuple()\n",
    "print(code)\n",
    "print(message)"
   ]
  },
  {
   "cell_type": "code",
   "execution_count": 10,
   "metadata": {},
   "outputs": [
    {
     "data": {
      "text/plain": [
       "(404,)"
      ]
     },
     "execution_count": 10,
     "metadata": {},
     "output_type": "execute_result"
    }
   ],
   "source": [
    "#1個元素的tuple\n",
    "(404,)"
   ]
  },
  {
   "cell_type": "code",
   "execution_count": 11,
   "metadata": {},
   "outputs": [
    {
     "data": {
      "text/plain": [
       "[]"
      ]
     },
     "execution_count": 11,
     "metadata": {},
     "output_type": "execute_result"
    }
   ],
   "source": [
    "list()"
   ]
  },
  {
   "cell_type": "code",
   "execution_count": 12,
   "metadata": {},
   "outputs": [
    {
     "data": {
      "text/plain": [
       "[1, 2, 3, 4, 5, 6, 7, 8, 9]"
      ]
     },
     "execution_count": 12,
     "metadata": {},
     "output_type": "execute_result"
    }
   ],
   "source": [
    "list(range(1,10))"
   ]
  },
  {
   "cell_type": "code",
   "execution_count": 13,
   "metadata": {},
   "outputs": [
    {
     "data": {
      "text/plain": [
       "['a', 'b', 'c', '1', '2', '3']"
      ]
     },
     "execution_count": 13,
     "metadata": {},
     "output_type": "execute_result"
    }
   ],
   "source": [
    "list(('a','b','c','1','2','3'))"
   ]
  },
  {
   "cell_type": "code",
   "execution_count": 14,
   "metadata": {},
   "outputs": [
    {
     "data": {
      "text/plain": [
       "[78, 98, 56, 74, 79]"
      ]
     },
     "execution_count": 14,
     "metadata": {},
     "output_type": "execute_result"
    }
   ],
   "source": [
    "#符號建立\n",
    "stu1 = [78,98,56,74,79]\n",
    "stu1"
   ]
  },
  {
   "cell_type": "code",
   "execution_count": 16,
   "metadata": {},
   "outputs": [
    {
     "name": "stdout",
     "output_type": "stream",
     "text": [
      "78\n",
      "98\n",
      "56\n",
      "74\n",
      "79\n"
     ]
    }
   ],
   "source": [
    "for score in stu1:\n",
    "    print(score)"
   ]
  },
  {
   "cell_type": "code",
   "execution_count": 17,
   "metadata": {},
   "outputs": [],
   "source": [
    "empty_list = []\n",
    "weekdays = ['Mon.','Tue.','Wed.','Thu.','Fri']\n",
    "big_birds = ['emu','ostrich','cassowary']\n",
    "first_names = ['Graham','John','Terry','Jerry','Michael']"
   ]
  },
  {
   "cell_type": "code",
   "execution_count": 18,
   "metadata": {},
   "outputs": [
    {
     "ename": "IndexError",
     "evalue": "list index out of range",
     "output_type": "error",
     "traceback": [
      "\u001b[0;31m---------------------------------------------------------------------------\u001b[0m",
      "\u001b[0;31mIndexError\u001b[0m                                Traceback (most recent call last)",
      "Cell \u001b[0;32mIn[18], line 1\u001b[0m\n\u001b[0;32m----> 1\u001b[0m first_names[\u001b[39m5\u001b[39;49m]\n",
      "\u001b[0;31mIndexError\u001b[0m: list index out of range"
     ]
    }
   ],
   "source": [
    "first_names[5]"
   ]
  },
  {
   "cell_type": "code",
   "execution_count": 19,
   "metadata": {},
   "outputs": [
    {
     "data": {
      "text/plain": [
       "list"
      ]
     },
     "execution_count": 19,
     "metadata": {},
     "output_type": "execute_result"
    }
   ],
   "source": [
    "type(first_names)"
   ]
  },
  {
   "cell_type": "code",
   "execution_count": 20,
   "metadata": {},
   "outputs": [
    {
     "data": {
      "text/plain": [
       "int"
      ]
     },
     "execution_count": 20,
     "metadata": {},
     "output_type": "execute_result"
    }
   ],
   "source": [
    "type(10)"
   ]
  },
  {
   "cell_type": "code",
   "execution_count": 21,
   "metadata": {},
   "outputs": [
    {
     "data": {
      "text/plain": [
       "float"
      ]
     },
     "execution_count": 21,
     "metadata": {},
     "output_type": "execute_result"
    }
   ],
   "source": [
    "type(10.0)"
   ]
  },
  {
   "cell_type": "code",
   "execution_count": 22,
   "metadata": {},
   "outputs": [
    {
     "data": {
      "text/plain": [
       "str"
      ]
     },
     "execution_count": 22,
     "metadata": {},
     "output_type": "execute_result"
    }
   ],
   "source": [
    "type('robert')"
   ]
  },
  {
   "cell_type": "code",
   "execution_count": 23,
   "metadata": {},
   "outputs": [
    {
     "data": {
      "text/plain": [
       "5"
      ]
     },
     "execution_count": 23,
     "metadata": {},
     "output_type": "execute_result"
    }
   ],
   "source": [
    "len(first_names)"
   ]
  },
  {
   "cell_type": "code",
   "execution_count": 24,
   "metadata": {},
   "outputs": [
    {
     "data": {
      "text/plain": [
       "['Graham', 'John', 'Terry', 'Jerry', 'Michael', 'robert']"
      ]
     },
     "execution_count": 24,
     "metadata": {},
     "output_type": "execute_result"
    }
   ],
   "source": [
    "first_names.append('robert')\n",
    "first_names"
   ]
  },
  {
   "cell_type": "code",
   "execution_count": 25,
   "metadata": {},
   "outputs": [
    {
     "data": {
      "text/plain": [
       "['Hsu', 'Graham', 'John', 'Terry', 'Jerry', 'Michael', 'robert']"
      ]
     },
     "execution_count": 25,
     "metadata": {},
     "output_type": "execute_result"
    }
   ],
   "source": [
    "first_names.insert(0,\"Hsu\")\n",
    "first_names"
   ]
  },
  {
   "cell_type": "code",
   "execution_count": 28,
   "metadata": {},
   "outputs": [
    {
     "name": "stdout",
     "output_type": "stream",
     "text": [
      "H\n",
      "e\n",
      "l\n",
      "l\n",
      "o\n",
      "W\n",
      "o\n",
      "r\n",
      "l\n",
      "d\n"
     ]
    }
   ],
   "source": [
    "for word in \"HelloWorld\":\n",
    "    print(word)"
   ]
  },
  {
   "cell_type": "code",
   "execution_count": 29,
   "metadata": {},
   "outputs": [
    {
     "data": {
      "text/plain": [
       "['H', 'e', 'l', 'l', 'o', 'W', 'o', 'r', 'l', 'd']"
      ]
     },
     "execution_count": 29,
     "metadata": {},
     "output_type": "execute_result"
    }
   ],
   "source": [
    "words = list(\"HelloWorld\")\n",
    "words"
   ]
  },
  {
   "cell_type": "code",
   "execution_count": 30,
   "metadata": {},
   "outputs": [
    {
     "data": {
      "text/plain": [
       "'H'"
      ]
     },
     "execution_count": 30,
     "metadata": {},
     "output_type": "execute_result"
    }
   ],
   "source": [
    "words[0]"
   ]
  },
  {
   "cell_type": "code",
   "execution_count": 36,
   "metadata": {},
   "outputs": [
    {
     "data": {
      "text/plain": [
       "['H', 'e', 'l', 'l', 'o']"
      ]
     },
     "execution_count": 36,
     "metadata": {},
     "output_type": "execute_result"
    }
   ],
   "source": [
    "#slice切割\n",
    "words[0:5]"
   ]
  },
  {
   "cell_type": "code",
   "execution_count": 32,
   "metadata": {},
   "outputs": [
    {
     "data": {
      "text/plain": [
       "['W', 'o', 'r', 'l']"
      ]
     },
     "execution_count": 32,
     "metadata": {},
     "output_type": "execute_result"
    }
   ],
   "source": [
    "words[-5:-1]"
   ]
  },
  {
   "cell_type": "code",
   "execution_count": 34,
   "metadata": {},
   "outputs": [
    {
     "data": {
      "text/plain": [
       "['W', 'o', 'r', 'l', 'd']"
      ]
     },
     "execution_count": 34,
     "metadata": {},
     "output_type": "execute_result"
    }
   ],
   "source": [
    "words[-5:]"
   ]
  },
  {
   "cell_type": "code",
   "execution_count": 35,
   "metadata": {},
   "outputs": [
    {
     "data": {
      "text/plain": [
       "['H', 'e', 'l', 'l', 'o']"
      ]
     },
     "execution_count": 35,
     "metadata": {},
     "output_type": "execute_result"
    }
   ],
   "source": [
    "words[:5]"
   ]
  },
  {
   "cell_type": "code",
   "execution_count": 37,
   "metadata": {},
   "outputs": [
    {
     "data": {
      "text/plain": [
       "[['筆記電腦', '商用筆電'], ['apple', 'asus', 'htc'], [3, '冰箱', 2, '洗衣機']]"
      ]
     },
     "execution_count": 37,
     "metadata": {},
     "output_type": "execute_result"
    }
   ],
   "source": [
    "#2維list\n",
    "nb = ['筆記電腦','商用筆電']\n",
    "mobile = ['apple','asus','htc']\n",
    "home = [3,'冰箱',2,'洗衣機']\n",
    "all3c = [nb, mobile, home]\n",
    "all3c"
   ]
  },
  {
   "cell_type": "code",
   "execution_count": 39,
   "metadata": {},
   "outputs": [
    {
     "name": "stdout",
     "output_type": "stream",
     "text": [
      "['筆記電腦', '商用筆電']\n",
      "['apple', 'asus', 'htc']\n",
      "[3, '冰箱', 2, '洗衣機']\n"
     ]
    }
   ],
   "source": [
    "print(all3c[0])\n",
    "print(all3c[1])\n",
    "print(all3c[2])"
   ]
  },
  {
   "cell_type": "code",
   "execution_count": 40,
   "metadata": {},
   "outputs": [
    {
     "name": "stdout",
     "output_type": "stream",
     "text": [
      "筆記電腦\n",
      "apple\n",
      "3\n"
     ]
    }
   ],
   "source": [
    "print(all3c[0][0])\n",
    "print(all3c[1][0])\n",
    "print(all3c[2][0])"
   ]
  },
  {
   "cell_type": "code",
   "execution_count": 41,
   "metadata": {},
   "outputs": [
    {
     "data": {
      "text/plain": [
       "[['apple', 'banana', 'mango'],\n",
       " ['patato', 'cabbage', 'carrot'],\n",
       " ['juice', 'coffee', 'water']]"
      ]
     },
     "execution_count": 41,
     "metadata": {},
     "output_type": "execute_result"
    }
   ],
   "source": [
    "#2維list練習\n",
    "fruit = ['apple','banana','mango']\n",
    "veg = ['patato','cabbage','carrot']\n",
    "drink = ['juice','coffee','water']\n",
    "all3f = [fruit, veg, drink]\n",
    "all3f"
   ]
  },
  {
   "cell_type": "code",
   "execution_count": 42,
   "metadata": {},
   "outputs": [
    {
     "name": "stdout",
     "output_type": "stream",
     "text": [
      "['apple', 'banana', 'mango']\n",
      "['patato', 'cabbage', 'carrot']\n",
      "['juice', 'coffee', 'water']\n"
     ]
    }
   ],
   "source": [
    "print(all3f[0])\n",
    "print(all3f[1])\n",
    "print(all3f[2])"
   ]
  },
  {
   "cell_type": "code",
   "execution_count": 44,
   "metadata": {},
   "outputs": [
    {
     "name": "stdout",
     "output_type": "stream",
     "text": [
      "banana\n",
      "carrot\n",
      "juice\n"
     ]
    }
   ],
   "source": [
    "print(all3f[0][1])\n",
    "print(all3f[1][2])\n",
    "print(all3f[2][0])"
   ]
  },
  {
   "cell_type": "code",
   "execution_count": 54,
   "metadata": {},
   "outputs": [],
   "source": [
    "import random"
   ]
  },
  {
   "cell_type": "code",
   "execution_count": 55,
   "metadata": {},
   "outputs": [
    {
     "data": {
      "text/plain": [
       "95"
      ]
     },
     "execution_count": 55,
     "metadata": {},
     "output_type": "execute_result"
    }
   ],
   "source": [
    "import random\n",
    "random.randint(50,100)"
   ]
  },
  {
   "cell_type": "code",
   "execution_count": 7,
   "metadata": {},
   "outputs": [
    {
     "ename": "NameError",
     "evalue": "name 'random' is not defined",
     "output_type": "error",
     "traceback": [
      "\u001b[0;31m---------------------------------------------------------------------------\u001b[0m",
      "\u001b[0;31mNameError\u001b[0m                                 Traceback (most recent call last)",
      "Cell \u001b[0;32mIn[7], line 3\u001b[0m\n\u001b[1;32m      1\u001b[0m stu1 \u001b[39m=\u001b[39m \u001b[39mlist\u001b[39m()\n\u001b[1;32m      2\u001b[0m \u001b[39mfor\u001b[39;00m i \u001b[39min\u001b[39;00m \u001b[39mrange\u001b[39m(\u001b[39m5\u001b[39m):\n\u001b[0;32m----> 3\u001b[0m     stu1\u001b[39m.\u001b[39mappend(random\u001b[39m.\u001b[39mrandint(\u001b[39m50\u001b[39m,\u001b[39m100\u001b[39m))\n\u001b[1;32m      4\u001b[0m stu1\n",
      "\u001b[0;31mNameError\u001b[0m: name 'random' is not defined"
     ]
    }
   ],
   "source": [
    "stu1 = list()\n",
    "for i in range(5):\n",
    "    stu1.append(random.randint(50,100))\n",
    "stu1"
   ]
  },
  {
   "cell_type": "code",
   "execution_count": 49,
   "metadata": {},
   "outputs": [
    {
     "data": {
      "text/plain": [
       "[[70, 70, 70, 70, 70],\n",
       " [70, 70, 70, 70, 70],\n",
       " [70, 70, 70, 70, 70],\n",
       " [70, 70, 70, 70, 70],\n",
       " [70, 70, 70, 70, 70],\n",
       " [70, 70, 70, 70, 70],\n",
       " [70, 70, 70, 70, 70],\n",
       " [70, 70, 70, 70, 70],\n",
       " [70, 70, 70, 70, 70],\n",
       " [70, 70, 70, 70, 70],\n",
       " [70, 70, 70, 70, 70],\n",
       " [70, 70, 70, 70, 70],\n",
       " [70, 70, 70, 70, 70],\n",
       " [70, 70, 70, 70, 70],\n",
       " [70, 70, 70, 70, 70],\n",
       " [70, 70, 70, 70, 70],\n",
       " [70, 70, 70, 70, 70],\n",
       " [70, 70, 70, 70, 70],\n",
       " [70, 70, 70, 70, 70],\n",
       " [70, 70, 70, 70, 70],\n",
       " [70, 70, 70, 70, 70],\n",
       " [70, 70, 70, 70, 70],\n",
       " [70, 70, 70, 70, 70],\n",
       " [70, 70, 70, 70, 70],\n",
       " [70, 70, 70, 70, 70],\n",
       " [70, 70, 70, 70, 70],\n",
       " [70, 70, 70, 70, 70],\n",
       " [70, 70, 70, 70, 70],\n",
       " [70, 70, 70, 70, 70],\n",
       " [70, 70, 70, 70, 70],\n",
       " [70, 70, 70, 70, 70],\n",
       " [70, 70, 70, 70, 70],\n",
       " [70, 70, 70, 70, 70],\n",
       " [70, 70, 70, 70, 70],\n",
       " [70, 70, 70, 70, 70],\n",
       " [70, 70, 70, 70, 70],\n",
       " [70, 70, 70, 70, 70],\n",
       " [70, 70, 70, 70, 70],\n",
       " [70, 70, 70, 70, 70],\n",
       " [70, 70, 70, 70, 70],\n",
       " [70, 70, 70, 70, 70],\n",
       " [70, 70, 70, 70, 70],\n",
       " [70, 70, 70, 70, 70],\n",
       " [70, 70, 70, 70, 70],\n",
       " [70, 70, 70, 70, 70],\n",
       " [70, 70, 70, 70, 70],\n",
       " [70, 70, 70, 70, 70],\n",
       " [70, 70, 70, 70, 70],\n",
       " [70, 70, 70, 70, 70],\n",
       " [70, 70, 70, 70, 70]]"
      ]
     },
     "execution_count": 49,
     "metadata": {},
     "output_type": "execute_result"
    }
   ],
   "source": [
    "students = []\n",
    "for _ in range(50):\n",
    "    students.append([70,70,70,70,70])\n",
    "students"
   ]
  },
  {
   "cell_type": "code",
   "execution_count": 51,
   "metadata": {},
   "outputs": [
    {
     "data": {
      "text/plain": [
       "[[80, 66, 51, 65, 83],\n",
       " [62, 90, 88, 100, 51],\n",
       " [90, 63, 89, 95, 92],\n",
       " [78, 64, 51, 67, 98],\n",
       " [76, 58, 58, 92, 82],\n",
       " [70, 50, 53, 86, 69],\n",
       " [53, 50, 78, 99, 86],\n",
       " [59, 80, 61, 92, 99],\n",
       " [77, 78, 85, 97, 54],\n",
       " [63, 67, 80, 97, 57],\n",
       " [82, 100, 74, 100, 64],\n",
       " [62, 51, 69, 66, 67],\n",
       " [76, 55, 79, 67, 52],\n",
       " [87, 69, 52, 50, 87],\n",
       " [80, 57, 64, 58, 69],\n",
       " [69, 96, 67, 100, 77],\n",
       " [54, 96, 72, 50, 88],\n",
       " [95, 54, 52, 70, 96],\n",
       " [94, 50, 54, 60, 69],\n",
       " [53, 67, 61, 73, 93],\n",
       " [62, 78, 52, 56, 100],\n",
       " [89, 56, 89, 56, 73],\n",
       " [97, 82, 61, 86, 84],\n",
       " [68, 53, 60, 96, 93],\n",
       " [91, 71, 78, 61, 81],\n",
       " [73, 83, 66, 53, 78],\n",
       " [100, 95, 85, 52, 99],\n",
       " [64, 73, 52, 86, 52],\n",
       " [64, 90, 69, 94, 58],\n",
       " [59, 100, 50, 88, 76],\n",
       " [77, 72, 61, 92, 67],\n",
       " [76, 77, 65, 86, 58],\n",
       " [93, 67, 94, 55, 86],\n",
       " [77, 70, 78, 59, 90],\n",
       " [89, 74, 66, 76, 69],\n",
       " [80, 96, 89, 63, 87],\n",
       " [91, 72, 61, 75, 86],\n",
       " [60, 71, 73, 72, 99],\n",
       " [82, 54, 67, 52, 69],\n",
       " [50, 68, 56, 60, 99],\n",
       " [98, 70, 60, 54, 56],\n",
       " [83, 90, 78, 62, 67],\n",
       " [97, 81, 83, 80, 51],\n",
       " [54, 53, 60, 59, 98],\n",
       " [82, 100, 95, 79, 78],\n",
       " [80, 81, 59, 71, 67],\n",
       " [78, 84, 50, 96, 60],\n",
       " [84, 98, 64, 58, 83],\n",
       " [74, 64, 75, 92, 94],\n",
       " [55, 72, 88, 78, 66]]"
      ]
     },
     "execution_count": 51,
     "metadata": {},
     "output_type": "execute_result"
    }
   ],
   "source": [
    "students = []\n",
    "for _ in range(50):\n",
    "    stu = list()\n",
    "    for _ in range(5):\n",
    "        stu.append(random.randint(50,100))\n",
    "    students.append(stu)\n",
    "students"
   ]
  },
  {
   "cell_type": "code",
   "execution_count": null,
   "metadata": {},
   "outputs": [],
   "source": [
    "open('hello.text')"
   ]
  }
 ],
 "metadata": {
  "kernelspec": {
   "display_name": "Python 3",
   "language": "python",
   "name": "python3"
  },
  "language_info": {
   "codemirror_mode": {
    "name": "ipython",
    "version": 3
   },
   "file_extension": ".py",
   "mimetype": "text/x-python",
   "name": "python",
   "nbconvert_exporter": "python",
   "pygments_lexer": "ipython3",
   "version": "3.10.12"
  },
  "orig_nbformat": 4
 },
 "nbformat": 4,
 "nbformat_minor": 2
}
