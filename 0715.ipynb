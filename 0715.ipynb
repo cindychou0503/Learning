{
 "cells": [
  {
   "cell_type": "code",
   "execution_count": 5,
   "metadata": {},
   "outputs": [
    {
     "name": "stdout",
     "output_type": "stream",
     "text": [
      "good morning\n"
     ]
    }
   ],
   "source": [
    "print('good morning')"
   ]
  },
  {
   "cell_type": "code",
   "execution_count": 6,
   "metadata": {},
   "outputs": [
    {
     "data": {
      "text/plain": [
       "(404, 'error')"
      ]
     },
     "execution_count": 6,
     "metadata": {},
     "output_type": "execute_result"
    }
   ],
   "source": [
    "(404, \"error\")"
   ]
  },
  {
   "cell_type": "code",
   "execution_count": 8,
   "metadata": {},
   "outputs": [],
   "source": [
    "def get_tuple():\n",
    "    return(404, \"error\")"
   ]
  },
  {
   "cell_type": "code",
   "execution_count": 9,
   "metadata": {},
   "outputs": [
    {
     "name": "stdout",
     "output_type": "stream",
     "text": [
      "404\n",
      "error\n"
     ]
    }
   ],
   "source": [
    "#tuple拆解法\n",
    "\n",
    "(code,message) = get_tuple()\n",
    "print(code)\n",
    "print(message)"
   ]
  },
  {
   "cell_type": "code",
   "execution_count": 10,
   "metadata": {},
   "outputs": [
    {
     "data": {
      "text/plain": [
       "(404,)"
      ]
     },
     "execution_count": 10,
     "metadata": {},
     "output_type": "execute_result"
    }
   ],
   "source": [
    "#1個元素的tuple\n",
    "(404,)"
   ]
  },
  {
   "cell_type": "code",
   "execution_count": 11,
   "metadata": {},
   "outputs": [
    {
     "data": {
      "text/plain": [
       "[]"
      ]
     },
     "execution_count": 11,
     "metadata": {},
     "output_type": "execute_result"
    }
   ],
   "source": [
    "list()"
   ]
  },
  {
   "cell_type": "code",
   "execution_count": 12,
   "metadata": {},
   "outputs": [
    {
     "data": {
      "text/plain": [
       "[1, 2, 3, 4, 5, 6, 7, 8, 9]"
      ]
     },
     "execution_count": 12,
     "metadata": {},
     "output_type": "execute_result"
    }
   ],
   "source": [
    "list(range(1,10))"
   ]
  },
  {
   "cell_type": "code",
   "execution_count": 13,
   "metadata": {},
   "outputs": [
    {
     "data": {
      "text/plain": [
       "['a', 'b', 'c', '1', '2', '3']"
      ]
     },
     "execution_count": 13,
     "metadata": {},
     "output_type": "execute_result"
    }
   ],
   "source": [
    "list(('a','b','c','1','2','3'))"
   ]
  },
  {
   "cell_type": "code",
   "execution_count": 14,
   "metadata": {},
   "outputs": [
    {
     "data": {
      "text/plain": [
       "[78, 98, 56, 74, 79]"
      ]
     },
     "execution_count": 14,
     "metadata": {},
     "output_type": "execute_result"
    }
   ],
   "source": [
    "#符號建立\n",
    "stu1 = [78,98,56,74,79]\n",
    "stu1"
   ]
  },
  {
   "cell_type": "code",
   "execution_count": 16,
   "metadata": {},
   "outputs": [
    {
     "name": "stdout",
     "output_type": "stream",
     "text": [
      "78\n",
      "98\n",
      "56\n",
      "74\n",
      "79\n"
     ]
    }
   ],
   "source": [
    "for score in stu1:\n",
    "    print(score)"
   ]
  },
  {
   "cell_type": "code",
   "execution_count": 17,
   "metadata": {},
   "outputs": [],
   "source": [
    "empty_list = []\n",
    "weekdays = ['Mon.','Tue.','Wed.','Thu.','Fri']\n",
    "big_birds = ['emu','ostrich','cassowary']\n",
    "first_names = ['Graham','John','Terry','Jerry','Michael']"
   ]
  },
  {
   "cell_type": "code",
   "execution_count": 18,
   "metadata": {},
   "outputs": [
    {
     "ename": "IndexError",
     "evalue": "list index out of range",
     "output_type": "error",
     "traceback": [
      "\u001b[0;31m---------------------------------------------------------------------------\u001b[0m",
      "\u001b[0;31mIndexError\u001b[0m                                Traceback (most recent call last)",
      "Cell \u001b[0;32mIn[18], line 1\u001b[0m\n\u001b[0;32m----> 1\u001b[0m first_names[\u001b[39m5\u001b[39;49m]\n",
      "\u001b[0;31mIndexError\u001b[0m: list index out of range"
     ]
    }
   ],
   "source": [
    "first_names[5]"
   ]
  },
  {
   "cell_type": "code",
   "execution_count": 19,
   "metadata": {},
   "outputs": [
    {
     "data": {
      "text/plain": [
       "list"
      ]
     },
     "execution_count": 19,
     "metadata": {},
     "output_type": "execute_result"
    }
   ],
   "source": [
    "type(first_names)"
   ]
  },
  {
   "cell_type": "code",
   "execution_count": 20,
   "metadata": {},
   "outputs": [
    {
     "data": {
      "text/plain": [
       "int"
      ]
     },
     "execution_count": 20,
     "metadata": {},
     "output_type": "execute_result"
    }
   ],
   "source": [
    "type(10)"
   ]
  },
  {
   "cell_type": "code",
   "execution_count": 21,
   "metadata": {},
   "outputs": [
    {
     "data": {
      "text/plain": [
       "float"
      ]
     },
     "execution_count": 21,
     "metadata": {},
     "output_type": "execute_result"
    }
   ],
   "source": [
    "type(10.0)"
   ]
  },
  {
   "cell_type": "code",
   "execution_count": 22,
   "metadata": {},
   "outputs": [
    {
     "data": {
      "text/plain": [
       "str"
      ]
     },
     "execution_count": 22,
     "metadata": {},
     "output_type": "execute_result"
    }
   ],
   "source": [
    "type('robert')"
   ]
  },
  {
   "cell_type": "code",
   "execution_count": 23,
   "metadata": {},
   "outputs": [
    {
     "data": {
      "text/plain": [
       "5"
      ]
     },
     "execution_count": 23,
     "metadata": {},
     "output_type": "execute_result"
    }
   ],
   "source": [
    "len(first_names)"
   ]
  },
  {
   "cell_type": "code",
   "execution_count": 24,
   "metadata": {},
   "outputs": [
    {
     "data": {
      "text/plain": [
       "['Graham', 'John', 'Terry', 'Jerry', 'Michael', 'robert']"
      ]
     },
     "execution_count": 24,
     "metadata": {},
     "output_type": "execute_result"
    }
   ],
   "source": [
    "first_names.append('robert')\n",
    "first_names"
   ]
  },
  {
   "cell_type": "code",
   "execution_count": 25,
   "metadata": {},
   "outputs": [
    {
     "data": {
      "text/plain": [
       "['Hsu', 'Graham', 'John', 'Terry', 'Jerry', 'Michael', 'robert']"
      ]
     },
     "execution_count": 25,
     "metadata": {},
     "output_type": "execute_result"
    }
   ],
   "source": [
    "first_names.insert(0,\"Hsu\")\n",
    "first_names"
   ]
  },
  {
   "cell_type": "code",
   "execution_count": 28,
   "metadata": {},
   "outputs": [
    {
     "name": "stdout",
     "output_type": "stream",
     "text": [
      "H\n",
      "e\n",
      "l\n",
      "l\n",
      "o\n",
      "W\n",
      "o\n",
      "r\n",
      "l\n",
      "d\n"
     ]
    }
   ],
   "source": [
    "for word in \"HelloWorld\":\n",
    "    print(word)"
   ]
  },
  {
   "cell_type": "code",
   "execution_count": 29,
   "metadata": {},
   "outputs": [
    {
     "data": {
      "text/plain": [
       "['H', 'e', 'l', 'l', 'o', 'W', 'o', 'r', 'l', 'd']"
      ]
     },
     "execution_count": 29,
     "metadata": {},
     "output_type": "execute_result"
    }
   ],
   "source": [
    "words = list(\"HelloWorld\")\n",
    "words"
   ]
  },
  {
   "cell_type": "code",
   "execution_count": 30,
   "metadata": {},
   "outputs": [
    {
     "data": {
      "text/plain": [
       "'H'"
      ]
     },
     "execution_count": 30,
     "metadata": {},
     "output_type": "execute_result"
    }
   ],
   "source": [
    "words[0]"
   ]
  },
  {
   "cell_type": "code",
   "execution_count": 36,
   "metadata": {},
   "outputs": [
    {
     "data": {
      "text/plain": [
       "['H', 'e', 'l', 'l', 'o']"
      ]
     },
     "execution_count": 36,
     "metadata": {},
     "output_type": "execute_result"
    }
   ],
   "source": [
    "#slice切割\n",
    "words[0:5]"
   ]
  },
  {
   "cell_type": "code",
   "execution_count": 32,
   "metadata": {},
   "outputs": [
    {
     "data": {
      "text/plain": [
       "['W', 'o', 'r', 'l']"
      ]
     },
     "execution_count": 32,
     "metadata": {},
     "output_type": "execute_result"
    }
   ],
   "source": [
    "words[-5:-1]"
   ]
  },
  {
   "cell_type": "code",
   "execution_count": 34,
   "metadata": {},
   "outputs": [
    {
     "data": {
      "text/plain": [
       "['W', 'o', 'r', 'l', 'd']"
      ]
     },
     "execution_count": 34,
     "metadata": {},
     "output_type": "execute_result"
    }
   ],
   "source": [
    "words[-5:]"
   ]
  },
  {
   "cell_type": "code",
   "execution_count": 35,
   "metadata": {},
   "outputs": [
    {
     "data": {
      "text/plain": [
       "['H', 'e', 'l', 'l', 'o']"
      ]
     },
     "execution_count": 35,
     "metadata": {},
     "output_type": "execute_result"
    }
   ],
   "source": [
    "words[:5]"
   ]
  },
  {
   "cell_type": "code",
   "execution_count": 37,
   "metadata": {},
   "outputs": [
    {
     "data": {
      "text/plain": [
       "[['筆記電腦', '商用筆電'], ['apple', 'asus', 'htc'], [3, '冰箱', 2, '洗衣機']]"
      ]
     },
     "execution_count": 37,
     "metadata": {},
     "output_type": "execute_result"
    }
   ],
   "source": [
    "#2維list\n",
    "nb = ['筆記電腦','商用筆電']\n",
    "mobile = ['apple','asus','htc']\n",
    "home = [3,'冰箱',2,'洗衣機']\n",
    "all3c = [nb, mobile, home]\n",
    "all3c"
   ]
  },
  {
   "cell_type": "code",
   "execution_count": 39,
   "metadata": {},
   "outputs": [
    {
     "name": "stdout",
     "output_type": "stream",
     "text": [
      "['筆記電腦', '商用筆電']\n",
      "['apple', 'asus', 'htc']\n",
      "[3, '冰箱', 2, '洗衣機']\n"
     ]
    }
   ],
   "source": [
    "print(all3c[0])\n",
    "print(all3c[1])\n",
    "print(all3c[2])"
   ]
  },
  {
   "cell_type": "code",
   "execution_count": 40,
   "metadata": {},
   "outputs": [
    {
     "name": "stdout",
     "output_type": "stream",
     "text": [
      "筆記電腦\n",
      "apple\n",
      "3\n"
     ]
    }
   ],
   "source": [
    "print(all3c[0][0])\n",
    "print(all3c[1][0])\n",
    "print(all3c[2][0])"
   ]
  },
  {
   "cell_type": "code",
   "execution_count": 41,
   "metadata": {},
   "outputs": [
    {
     "data": {
      "text/plain": [
       "[['apple', 'banana', 'mango'],\n",
       " ['patato', 'cabbage', 'carrot'],\n",
       " ['juice', 'coffee', 'water']]"
      ]
     },
     "execution_count": 41,
     "metadata": {},
     "output_type": "execute_result"
    }
   ],
   "source": [
    "#2維list練習\n",
    "fruit = ['apple','banana','mango']\n",
    "veg = ['patato','cabbage','carrot']\n",
    "drink = ['juice','coffee','water']\n",
    "all3f = [fruit, veg, drink]\n",
    "all3f"
   ]
  },
  {
   "cell_type": "code",
   "execution_count": 42,
   "metadata": {},
   "outputs": [
    {
     "name": "stdout",
     "output_type": "stream",
     "text": [
      "['apple', 'banana', 'mango']\n",
      "['patato', 'cabbage', 'carrot']\n",
      "['juice', 'coffee', 'water']\n"
     ]
    }
   ],
   "source": [
    "print(all3f[0])\n",
    "print(all3f[1])\n",
    "print(all3f[2])"
   ]
  },
  {
   "cell_type": "code",
   "execution_count": 44,
   "metadata": {},
   "outputs": [
    {
     "name": "stdout",
     "output_type": "stream",
     "text": [
      "banana\n",
      "carrot\n",
      "juice\n"
     ]
    }
   ],
   "source": [
    "print(all3f[0][1])\n",
    "print(all3f[1][2])\n",
    "print(all3f[2][0])"
   ]
  },
  {
   "cell_type": "code",
   "execution_count": 54,
   "metadata": {},
   "outputs": [],
   "source": [
    "import random"
   ]
  },
  {
   "cell_type": "code",
   "execution_count": 55,
   "metadata": {},
   "outputs": [
    {
     "data": {
      "text/plain": [
       "95"
      ]
     },
     "execution_count": 55,
     "metadata": {},
     "output_type": "execute_result"
    }
   ],
   "source": [
    "import random\n",
    "random.randint(50,100)"
   ]
  },
  {
   "cell_type": "code",
   "execution_count": 3,
   "metadata": {},
   "outputs": [
    {
     "data": {
      "text/plain": [
       "[91, 80, 64, 77, 51]"
      ]
     },
     "execution_count": 3,
     "metadata": {},
     "output_type": "execute_result"
    }
   ],
   "source": [
    "stu1 = list()\n",
    "for _ in range(5):\n",
    "    stu1.append(random.randint(50,100))\n",
    "stu1"
   ]
  },
  {
   "cell_type": "code",
   "execution_count": 49,
   "metadata": {},
   "outputs": [
    {
     "data": {
      "text/plain": [
       "[[70, 70, 70, 70, 70],\n",
       " [70, 70, 70, 70, 70],\n",
       " [70, 70, 70, 70, 70],\n",
       " [70, 70, 70, 70, 70],\n",
       " [70, 70, 70, 70, 70],\n",
       " [70, 70, 70, 70, 70],\n",
       " [70, 70, 70, 70, 70],\n",
       " [70, 70, 70, 70, 70],\n",
       " [70, 70, 70, 70, 70],\n",
       " [70, 70, 70, 70, 70],\n",
       " [70, 70, 70, 70, 70],\n",
       " [70, 70, 70, 70, 70],\n",
       " [70, 70, 70, 70, 70],\n",
       " [70, 70, 70, 70, 70],\n",
       " [70, 70, 70, 70, 70],\n",
       " [70, 70, 70, 70, 70],\n",
       " [70, 70, 70, 70, 70],\n",
       " [70, 70, 70, 70, 70],\n",
       " [70, 70, 70, 70, 70],\n",
       " [70, 70, 70, 70, 70],\n",
       " [70, 70, 70, 70, 70],\n",
       " [70, 70, 70, 70, 70],\n",
       " [70, 70, 70, 70, 70],\n",
       " [70, 70, 70, 70, 70],\n",
       " [70, 70, 70, 70, 70],\n",
       " [70, 70, 70, 70, 70],\n",
       " [70, 70, 70, 70, 70],\n",
       " [70, 70, 70, 70, 70],\n",
       " [70, 70, 70, 70, 70],\n",
       " [70, 70, 70, 70, 70],\n",
       " [70, 70, 70, 70, 70],\n",
       " [70, 70, 70, 70, 70],\n",
       " [70, 70, 70, 70, 70],\n",
       " [70, 70, 70, 70, 70],\n",
       " [70, 70, 70, 70, 70],\n",
       " [70, 70, 70, 70, 70],\n",
       " [70, 70, 70, 70, 70],\n",
       " [70, 70, 70, 70, 70],\n",
       " [70, 70, 70, 70, 70],\n",
       " [70, 70, 70, 70, 70],\n",
       " [70, 70, 70, 70, 70],\n",
       " [70, 70, 70, 70, 70],\n",
       " [70, 70, 70, 70, 70],\n",
       " [70, 70, 70, 70, 70],\n",
       " [70, 70, 70, 70, 70],\n",
       " [70, 70, 70, 70, 70],\n",
       " [70, 70, 70, 70, 70],\n",
       " [70, 70, 70, 70, 70],\n",
       " [70, 70, 70, 70, 70],\n",
       " [70, 70, 70, 70, 70]]"
      ]
     },
     "execution_count": 49,
     "metadata": {},
     "output_type": "execute_result"
    }
   ],
   "source": [
    "students = []\n",
    "for _ in range(50):\n",
    "    students.append([70,70,70,70,70])\n",
    "students"
   ]
  },
  {
   "cell_type": "code",
   "execution_count": 1,
   "metadata": {},
   "outputs": [
    {
     "data": {
      "text/plain": [
       "[[71, 62, 54, 51, 73],\n",
       " [99, 70, 91, 60, 87],\n",
       " [61, 97, 72, 53, 64],\n",
       " [100, 58, 55, 61, 83],\n",
       " [98, 91, 55, 61, 90],\n",
       " [100, 86, 79, 84, 78],\n",
       " [72, 70, 86, 70, 79],\n",
       " [61, 80, 80, 79, 80],\n",
       " [58, 60, 66, 83, 68],\n",
       " [83, 73, 61, 62, 83],\n",
       " [80, 81, 98, 63, 73],\n",
       " [91, 78, 76, 52, 78],\n",
       " [86, 90, 95, 55, 85],\n",
       " [75, 88, 84, 64, 63],\n",
       " [97, 83, 61, 66, 63],\n",
       " [56, 78, 51, 63, 68],\n",
       " [61, 98, 75, 59, 87],\n",
       " [77, 91, 87, 92, 63],\n",
       " [67, 84, 91, 100, 56],\n",
       " [90, 60, 50, 71, 59],\n",
       " [79, 62, 76, 56, 79],\n",
       " [71, 77, 81, 65, 92],\n",
       " [78, 92, 70, 64, 80],\n",
       " [70, 97, 87, 67, 62],\n",
       " [51, 61, 71, 77, 77],\n",
       " [80, 61, 63, 68, 79],\n",
       " [75, 88, 70, 96, 94],\n",
       " [65, 54, 60, 83, 52],\n",
       " [52, 66, 84, 79, 69],\n",
       " [92, 91, 89, 96, 98],\n",
       " [51, 92, 74, 65, 96],\n",
       " [56, 76, 85, 70, 79],\n",
       " [81, 87, 76, 85, 98],\n",
       " [74, 67, 82, 93, 70],\n",
       " [53, 76, 85, 73, 76],\n",
       " [64, 73, 92, 88, 87],\n",
       " [87, 83, 66, 87, 56],\n",
       " [50, 67, 76, 79, 70],\n",
       " [62, 98, 56, 67, 57],\n",
       " [92, 70, 82, 97, 99],\n",
       " [78, 93, 100, 57, 65],\n",
       " [67, 57, 59, 87, 76],\n",
       " [100, 95, 71, 67, 92],\n",
       " [88, 95, 95, 67, 90],\n",
       " [91, 83, 75, 79, 62],\n",
       " [79, 52, 58, 83, 64],\n",
       " [80, 52, 85, 74, 74],\n",
       " [73, 61, 78, 91, 96],\n",
       " [82, 59, 86, 95, 57],\n",
       " [61, 100, 71, 56, 76]]"
      ]
     },
     "execution_count": 1,
     "metadata": {},
     "output_type": "execute_result"
    }
   ],
   "source": [
    "import random\n",
    "students = []\n",
    "for _ in range(50):\n",
    "    stu = list()\n",
    "    for _ in range(5):\n",
    "        stu.append(random.randint(50,100))\n",
    "    students.append(stu)\n",
    "students"
   ]
  },
  {
   "cell_type": "code",
   "execution_count": null,
   "metadata": {},
   "outputs": [],
   "source": [
    "open('hello.text')"
   ]
  },
  {
   "cell_type": "code",
   "execution_count": 9,
   "metadata": {},
   "outputs": [],
   "source": [
    "text = '''python與中文\n",
    "1. 我們來試試看中文儲存能力。\n",
    "2. 許這個字會有編碼衝突風險。\n",
    "3. 犇這個字必須是utf8編碼才有。'''\n",
    "\n",
    "file = open('hello.text',mode='w')\n",
    "print(text,file=file)\n",
    "file.close()\n"
   ]
  },
  {
   "cell_type": "code",
   "execution_count": 8,
   "metadata": {},
   "outputs": [],
   "source": [
    "text = '''python與中文\n",
    "1. 我們來試試看中文儲存能力。\n",
    "2. 許這個字會有編碼衝突風險。\n",
    "3. 犇這個字必須是utf8編碼才有。'''\n",
    "\n",
    "file = open('hello.text',mode='w',encoding=\"utf-8\")\n",
    "print(text,file=file)\n",
    "file.close()"
   ]
  },
  {
   "cell_type": "code",
   "execution_count": 10,
   "metadata": {},
   "outputs": [],
   "source": [
    "file = open('hello1.text',mode='w',encoding=\"utf-8\")\n",
    "file.write(\"這是第一行\\n\")\n",
    "file.write(\"這是第二行\\n\")\n",
    "file.writelines(\"\"\"\n",
    "這是第三行\\n\n",
    "這是第四行\\n\n",
    "這是第五行\\n\"\"\")\n",
    "file.close()"
   ]
  },
  {
   "cell_type": "code",
   "execution_count": 11,
   "metadata": {},
   "outputs": [],
   "source": [
    "file = open('hello1-1.text',mode='w',encoding=\"utf-8\")\n",
    "file.write(\"這是第一行\\n\")\n",
    "file.write(\"這是第二行\\n\")\n",
    "file.writelines(\"\"\"這是第三行\n",
    "這是第四行\n",
    "這是第五行\n",
    "\"\"\")\n",
    "file.close()"
   ]
  },
  {
   "cell_type": "code",
   "execution_count": 13,
   "metadata": {},
   "outputs": [
    {
     "data": {
      "text/plain": [
       "'這是第一行\\n這是第二行\\n這是第三行\\n這是第四行\\n這是第五行\\n'"
      ]
     },
     "execution_count": 13,
     "metadata": {},
     "output_type": "execute_result"
    }
   ],
   "source": [
    "file = open('hello1-1.text',mode='r',encoding=\"utf-8\")\n",
    "all_text = file.read()\n",
    "all_text"
   ]
  },
  {
   "cell_type": "code",
   "execution_count": 12,
   "metadata": {},
   "outputs": [
    {
     "name": "stdout",
     "output_type": "stream",
     "text": [
      "這是第一行\n",
      "這是第二行\n",
      "這是第三行\n",
      "這是第四行\n",
      "這是第五行\n",
      "\n"
     ]
    }
   ],
   "source": [
    "file = open('hello1-1.text',mode='r',encoding=\"utf-8\")\n",
    "all_text = file.read()\n",
    "print(all_text)"
   ]
  },
  {
   "cell_type": "code",
   "execution_count": 2,
   "metadata": {},
   "outputs": [],
   "source": [
    "import csv\n",
    "csv_write_file = open('students.csv',newline='',mode='w',encoding='utf-8')\n",
    "csv_writer = csv.writer(csv_write_file)\n",
    "csv_writer.writerow({'國文','英文','數學','地理','歷史'})\n",
    "csv_writer.writerows(students)\n",
    "csv_write_file.close()"
   ]
  }
 ],
 "metadata": {
  "kernelspec": {
   "display_name": "Python 3",
   "language": "python",
   "name": "python3"
  },
  "language_info": {
   "codemirror_mode": {
    "name": "ipython",
    "version": 3
   },
   "file_extension": ".py",
   "mimetype": "text/x-python",
   "name": "python",
   "nbconvert_exporter": "python",
   "pygments_lexer": "ipython3",
   "version": "3.10.12"
  },
  "orig_nbformat": 4
 },
 "nbformat": 4,
 "nbformat_minor": 2
}
