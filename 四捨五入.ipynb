{
 "cells": [
  {
   "attachments": {},
   "cell_type": "markdown",
   "metadata": {},
   "source": [
    "四捨五入"
   ]
  },
  {
   "attachments": {},
   "cell_type": "markdown",
   "metadata": {},
   "source": [
    "1. Bankers' Rounding"
   ]
  },
  {
   "cell_type": "code",
   "execution_count": 5,
   "metadata": {},
   "outputs": [
    {
     "name": "stdout",
     "output_type": "stream",
     "text": [
      "對a做四捨五入 4\n",
      "對b做四捨五入 4\n"
     ]
    }
   ],
   "source": [
    "# 四捨五入\n",
    "a=3.5\n",
    "b=4.5\n",
    "#\n",
    "print('對a做四捨五入',round(a))\n",
    "print('對b做四捨五入',round(b))"
   ]
  },
  {
   "cell_type": "code",
   "execution_count": null,
   "metadata": {},
   "outputs": [],
   "source": [
    "2. 數學上的四捨五入"
   ]
  },
  {
   "cell_type": "code",
   "execution_count": 7,
   "metadata": {},
   "outputs": [
    {
     "name": "stdout",
     "output_type": "stream",
     "text": [
      "對a做四捨五入 3\n",
      "對b做四捨五入 5\n"
     ]
    }
   ],
   "source": [
    "import math\n",
    "#\n",
    "print('對a做四捨五入',math.floor(a))\n",
    "#\n",
    "print('對b做四捨五入',math.ceil(b))"
   ]
  }
 ],
 "metadata": {
  "kernelspec": {
   "display_name": "Python 3",
   "language": "python",
   "name": "python3"
  },
  "language_info": {
   "codemirror_mode": {
    "name": "ipython",
    "version": 3
   },
   "file_extension": ".py",
   "mimetype": "text/x-python",
   "name": "python",
   "nbconvert_exporter": "python",
   "pygments_lexer": "ipython3",
   "version": "3.11.4"
  },
  "orig_nbformat": 4
 },
 "nbformat": 4,
 "nbformat_minor": 2
}
