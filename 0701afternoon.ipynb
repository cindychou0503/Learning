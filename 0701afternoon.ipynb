{
 "cells": [
  {
   "cell_type": "code",
   "execution_count": 7,
   "metadata": {},
   "outputs": [
    {
     "name": "stdout",
     "output_type": "stream",
     "text": [
      "直角三角形的角度為:30度\n"
     ]
    }
   ],
   "source": [
    "import math\n",
    "n = float(input(\"請輸入斜邊:\"))\n",
    "m = float(input(\"請輸入對邊:\"))\n",
    "radion = math.asin(m / n)\n",
    "degree = round(math.degrees(radion))\n",
    "print(f'直角三角形的角度為:{degree}度')"
   ]
  },
  {
   "cell_type": "code",
   "execution_count": 11,
   "metadata": {},
   "outputs": [
    {
     "data": {
      "text/plain": [
       "True"
      ]
     },
     "execution_count": 11,
     "metadata": {},
     "output_type": "execute_result"
    }
   ],
   "source": [
    "3  == 3\n"
   ]
  },
  {
   "cell_type": "code",
   "execution_count": 12,
   "metadata": {},
   "outputs": [
    {
     "data": {
      "text/plain": [
       "False"
      ]
     },
     "execution_count": 12,
     "metadata": {},
     "output_type": "execute_result"
    }
   ],
   "source": [
    "3 != 3"
   ]
  },
  {
   "cell_type": "code",
   "execution_count": 15,
   "metadata": {},
   "outputs": [
    {
     "data": {
      "text/plain": [
       "False"
      ]
     },
     "execution_count": 15,
     "metadata": {},
     "output_type": "execute_result"
    }
   ],
   "source": [
    "3 > 5"
   ]
  },
  {
   "cell_type": "code",
   "execution_count": 16,
   "metadata": {},
   "outputs": [
    {
     "data": {
      "text/plain": [
       "False"
      ]
     },
     "execution_count": 16,
     "metadata": {},
     "output_type": "execute_result"
    }
   ],
   "source": [
    "2 >= 5"
   ]
  },
  {
   "cell_type": "code",
   "execution_count": 17,
   "metadata": {},
   "outputs": [
    {
     "data": {
      "text/plain": [
       "True"
      ]
     },
     "execution_count": 17,
     "metadata": {},
     "output_type": "execute_result"
    }
   ],
   "source": [
    "9 <= 17"
   ]
  },
  {
   "attachments": {},
   "cell_type": "markdown",
   "metadata": {},
   "source": [
    "if 275"
   ]
  },
  {
   "cell_type": "code",
   "execution_count": 18,
   "metadata": {},
   "outputs": [
    {
     "name": "stdout",
     "output_type": "stream",
     "text": [
      "學生總分是:288.75\n"
     ]
    }
   ],
   "source": [
    "#學生總分為300\n",
    "#有些學生可以加分5％\n",
    "#如果加分超過300，就以300分為準\n",
    "\n",
    "scores = int(input(\"請輸入學生分數(最高300分):\"))\n",
    "is_add = input(\"學生是否符合加分條件?(y,n)\")\n",
    "\n",
    "if is_add == \"y\":\n",
    "    scores = scores + scores*0.05\n",
    "\n",
    "print(f\"學生總分是:{scores}\")"
   ]
  },
  {
   "attachments": {},
   "cell_type": "markdown",
   "metadata": {},
   "source": [
    "if 298"
   ]
  },
  {
   "cell_type": "code",
   "execution_count": 21,
   "metadata": {},
   "outputs": [
    {
     "name": "stdout",
     "output_type": "stream",
     "text": [
      "學生總分是:312.9\n"
     ]
    }
   ],
   "source": [
    "#學生總分為300\n",
    "#有些學生可以加分5％\n",
    "#如果加分超過300，就以300分為準\n",
    "\n",
    "scores = int(input(\"請輸入學生分數(最高300分):\"))\n",
    "is_add = input(\"學生是否符合加分條件?(y,n)\")\n",
    "\n",
    "if is_add == \"y\":\n",
    "    scores = scores + scores*0.05\n",
    "\n",
    "print(f\"學生總分是:{scores}\")"
   ]
  },
  {
   "attachments": {},
   "cell_type": "markdown",
   "metadata": {},
   "source": [
    "if 298"
   ]
  },
  {
   "cell_type": "code",
   "execution_count": 20,
   "metadata": {},
   "outputs": [
    {
     "name": "stdout",
     "output_type": "stream",
     "text": [
      "學生總分是:300\n"
     ]
    }
   ],
   "source": [
    "#學生總分為300\n",
    "#有些學生可以加分5％\n",
    "#如果加分超過300，就以300分為準\n",
    "\n",
    "scores = int(input(\"請輸入學生分數(最高300分):\"))\n",
    "is_add = input(\"學生是否符合加分條件?(y,n)\")\n",
    "\n",
    "if is_add == \"y\":\n",
    "    scores = scores + scores*0.05\n",
    "    if scores > 300:\n",
    "        scores = 300\n",
    "\n",
    "print(f\"學生總分是:{scores}\")"
   ]
  },
  {
   "attachments": {},
   "cell_type": "markdown",
   "metadata": {},
   "source": [
    "if 270"
   ]
  },
  {
   "cell_type": "code",
   "execution_count": 23,
   "metadata": {},
   "outputs": [
    {
     "name": "stdout",
     "output_type": "stream",
     "text": [
      "學生總分是:283.5\n"
     ]
    }
   ],
   "source": [
    "#學生總分為300\n",
    "#有些學生可以加分5％\n",
    "#如果加分超過300，就以300分為準\n",
    "\n",
    "scores = int(input(\"請輸入學生分數(最高300分):\"))\n",
    "is_add = input(\"學生是否符合加分條件?(y,n)\")\n",
    "\n",
    "if is_add == \"y\":\n",
    "    scores = scores + scores*0.05\n",
    "    if scores > 300:\n",
    "        scores = 300\n",
    "\n",
    "print(f\"學生總分是:{scores}\")"
   ]
  },
  {
   "attachments": {},
   "cell_type": "markdown",
   "metadata": {},
   "source": [
    "if 310"
   ]
  },
  {
   "cell_type": "code",
   "execution_count": 46,
   "metadata": {},
   "outputs": [
    {
     "name": "stdout",
     "output_type": "stream",
     "text": [
      "pig\n"
     ]
    }
   ],
   "source": [
    "#學生總分為300\n",
    "#有些學生可以加分5％\n",
    "#如果加分超過300，就以300分為準\n",
    "\n",
    "scores_str = input(\"請輸入學生分數(最高300分):\")\n",
    "\n",
    "if (scores_str >= \"a\" and scores_str <= \"z\") or (scores_str >= \"A\" and scores_str <= \"Z\"):\n",
    "    print('pig')\n",
    "else:\n",
    "    scores = int(scores_str)\n",
    "    if(scores >300):\n",
    "        print('pig')\n",
    "    else:\n",
    "        is_add = input(\"學生是否符合加分條件?(y,n)\")\n",
    "\n",
    "        if is_add == \"y\":\n",
    "            scores = scores + scores*0.05\n",
    "            if scores > 300:\n",
    "                scores = 300\n",
    "\n",
    "        print(f\"學生總分是:{scores}\")"
   ]
  },
  {
   "cell_type": "code",
   "execution_count": 57,
   "metadata": {},
   "outputs": [
    {
     "ename": "TypeError",
     "evalue": "'>' not supported between instances of 'str' and 'int'",
     "output_type": "error",
     "traceback": [
      "\u001b[0;31m---------------------------------------------------------------------------\u001b[0m",
      "\u001b[0;31mTypeError\u001b[0m                                 Traceback (most recent call last)",
      "Cell \u001b[0;32mIn[57], line 7\u001b[0m\n\u001b[1;32m      1\u001b[0m \u001b[39m#學生總分為300\u001b[39;00m\n\u001b[1;32m      2\u001b[0m \u001b[39m#有些學生可以加分5％\u001b[39;00m\n\u001b[1;32m      3\u001b[0m \u001b[39m#如果加分超過300，就以300分為準\u001b[39;00m\n\u001b[1;32m      5\u001b[0m scores_str \u001b[39m=\u001b[39m \u001b[39minput\u001b[39m(\u001b[39m\"\u001b[39m\u001b[39m請輸入學生分數(最高300分):\u001b[39m\u001b[39m\"\u001b[39m)\n\u001b[0;32m----> 7\u001b[0m \u001b[39mif\u001b[39;00m scores_str \u001b[39m>\u001b[39;49m \u001b[39m300\u001b[39;49m:\n\u001b[1;32m      8\u001b[0m     \u001b[39mprint\u001b[39m(\u001b[39m'\u001b[39m\u001b[39mpig\u001b[39m\u001b[39m'\u001b[39m)\n\u001b[1;32m      9\u001b[0m \u001b[39melse\u001b[39;00m:\n",
      "\u001b[0;31mTypeError\u001b[0m: '>' not supported between instances of 'str' and 'int'"
     ]
    }
   ],
   "source": [
    "#學生總分為300\n",
    "#有些學生可以加分5％\n",
    "#如果加分超過300，就以300分為準\n",
    "\n",
    "scores_str = input(\"請輸入學生分數(最高300分):\")\n",
    "\n",
    "if scores_str > 300:\n",
    "    print('pig')\n",
    "else:\n",
    "    is_add = input(\"學生是否符合加分條件?(y,n)\")\n",
    "\n",
    "    if is_add == \"y\":\n",
    "            scores = scores + scores*0.05\n",
    "            if scores > 300:\n",
    "                scores = 300\n",
    "\n",
    "    print(f\"學生總分是:{scores}\")"
   ]
  },
  {
   "attachments": {},
   "cell_type": "markdown",
   "metadata": {},
   "source": [
    "if 79"
   ]
  },
  {
   "cell_type": "code",
   "execution_count": 33,
   "metadata": {},
   "outputs": [
    {
     "name": "stdout",
     "output_type": "stream",
     "text": [
      "及格\n",
      "優\n"
     ]
    }
   ],
   "source": [
    "chinese = int(input(\"請輸入學生國文分數:\"))\n",
    "if chinese < 60:\n",
    "    print(\"不及格\")\n",
    "else:\n",
    "    print(\"及格\")\n",
    "    if chinese < 80:\n",
    "        print (\"優\")\n",
    "    else:\n",
    "        print(\"很優\")"
   ]
  },
  {
   "attachments": {},
   "cell_type": "markdown",
   "metadata": {},
   "source": [
    "if 85"
   ]
  },
  {
   "cell_type": "code",
   "execution_count": 34,
   "metadata": {},
   "outputs": [
    {
     "name": "stdout",
     "output_type": "stream",
     "text": [
      "及格\n",
      "很優\n"
     ]
    }
   ],
   "source": [
    "chinese = int(input(\"請輸入學生國文分數:\"))\n",
    "if chinese < 60:\n",
    "    print(\"不及格\")\n",
    "else:\n",
    "    print(\"及格\")\n",
    "    if chinese < 80:\n",
    "        print (\"優\")\n",
    "    else:\n",
    "        print(\"很優\")"
   ]
  },
  {
   "cell_type": "code",
   "execution_count": null,
   "metadata": {},
   "outputs": [],
   "source": [
    "# 下列為換算成績等級的程式碼，換算的規則如下:\n",
    "\n",
    "# 90(含)~100分為「優」\n",
    "# 80(含)~89(含)分為「甲」\n",
    "# 70(含)~79(含)分為「乙」\n",
    "# 60(含)~69(含)分為「丙」\n",
    "# 0(含)~59(含)分為「丁」\n",
    "\n",
    "score = int(input(\"請輸入分數\"))\n",
    "if score >= 90:\n",
    "    print(\"優\")\n",
    "else:\n",
    "    if score >= 80:\n",
    "        print(\"甲\")\n",
    "    else:\n",
    "        if score >= 70:\n",
    "    print(\"乙\")\n",
    "elif score >= 60:\n",
    "    print(\"丙\")\n",
    "else:\n",
    "    print(\"丁\")\n"
   ]
  },
  {
   "cell_type": "code",
   "execution_count": 48,
   "metadata": {},
   "outputs": [
    {
     "name": "stdout",
     "output_type": "stream",
     "text": [
      "甲\n"
     ]
    }
   ],
   "source": [
    "# 下列為換算成績等級的程式碼，換算的規則如下:\n",
    "\n",
    "# 90(含)~100分為「優」\n",
    "# 80(含)~89(含)分為「甲」\n",
    "# 70(含)~79(含)分為「乙」\n",
    "# 60(含)~69(含)分為「丙」\n",
    "# 0(含)~59(含)分為「丁」\n",
    "\n",
    "score = int(input(\"請輸入分數\"))\n",
    "if score >= 90:\n",
    "    print(\"優\")\n",
    "elif score >= 80:\n",
    "    print(\"甲\")\n",
    "elif score >= 70:\n",
    "    print(\"乙\")\n",
    "elif score >= 60:\n",
    "    print(\"丙\")\n",
    "else:\n",
    "    print(\"丁\")"
   ]
  },
  {
   "cell_type": "code",
   "execution_count": 55,
   "metadata": {},
   "outputs": [
    {
     "name": "stdout",
     "output_type": "stream",
     "text": [
      "中文100分\n"
     ]
    }
   ],
   "source": [
    "chinese = 100\n",
    "if chinese ==100:\n",
    "    print(\"中文100分\")\n",
    "else:\n",
    "    print(\"中文沒有100分\")"
   ]
  },
  {
   "cell_type": "code",
   "execution_count": 53,
   "metadata": {},
   "outputs": [
    {
     "name": "stdout",
     "output_type": "stream",
     "text": [
      "中文100分\n"
     ]
    }
   ],
   "source": [
    "chinese = 100\n",
    "if not chinese ==100:\n",
    "    print(\"中文沒有100分\")\n",
    "else:\n",
    "    print(\"中文100分\")"
   ]
  },
  {
   "cell_type": "code",
   "execution_count": 62,
   "metadata": {},
   "outputs": [
    {
     "name": "stdout",
     "output_type": "stream",
     "text": [
      "1000\n"
     ]
    }
   ],
   "source": [
    "chinese = 100\n",
    "english = 100\n",
    "\n",
    "if chinese ==100 and english ==100:\n",
    "    print(\"1000\")\n",
    "elif chinese ==100 or english ==100:\n",
    "    print(\"500\")\n",
    "else:\n",
    "    print(\"0\")"
   ]
  },
  {
   "cell_type": "code",
   "execution_count": 63,
   "metadata": {},
   "outputs": [
    {
     "name": "stdout",
     "output_type": "stream",
     "text": [
      "500\n"
     ]
    }
   ],
   "source": [
    "chinese = 100\n",
    "english = 99\n",
    "\n",
    "if chinese ==100 and english ==100:\n",
    "    print(\"1000\")\n",
    "elif chinese ==100 or english ==100:\n",
    "    print(\"500\")\n",
    "else:\n",
    "    print(\"0\")"
   ]
  },
  {
   "cell_type": "code",
   "execution_count": 64,
   "metadata": {},
   "outputs": [
    {
     "name": "stdout",
     "output_type": "stream",
     "text": [
      "0\n"
     ]
    }
   ],
   "source": [
    "chinese = 99\n",
    "english = 99\n",
    "\n",
    "if chinese ==100 and english ==100:\n",
    "    print(\"1000\")\n",
    "elif chinese ==100 or english ==100:\n",
    "    print(\"500\")\n",
    "else:\n",
    "    print(\"0\")"
   ]
  },
  {
   "cell_type": "code",
   "execution_count": 70,
   "metadata": {},
   "outputs": [
    {
     "name": "stdout",
     "output_type": "stream",
     "text": [
      "500\n"
     ]
    }
   ],
   "source": [
    "chinese = 100\n",
    "english = 99\n",
    "math = 100\n",
    "\n",
    "if chinese ==100 and english ==100 and math ==100:\n",
    "    print(\"1000\")\n",
    "elif chinese ==100 and english or math==100:\n",
    "    print(\"500\")\n",
    "elif chinese ==100 or english and math==100:\n",
    "    print(\"600\")\n",
    "else:\n",
    "    print(\"0\")"
   ]
  },
  {
   "cell_type": "code",
   "execution_count": 71,
   "metadata": {},
   "outputs": [
    {
     "name": "stdout",
     "output_type": "stream",
     "text": [
      "0\n",
      "1\n",
      "2\n",
      "3\n",
      "4\n",
      "5\n",
      "6\n",
      "7\n",
      "8\n",
      "9\n"
     ]
    }
   ],
   "source": [
    "for i in range(10):\n",
    "    print(i)"
   ]
  },
  {
   "cell_type": "code",
   "execution_count": 72,
   "metadata": {},
   "outputs": [
    {
     "name": "stdout",
     "output_type": "stream",
     "text": [
      "5\n",
      "6\n",
      "7\n",
      "8\n",
      "9\n"
     ]
    }
   ],
   "source": [
    "for i in range(5,10):\n",
    "    print(i)"
   ]
  },
  {
   "cell_type": "code",
   "execution_count": 74,
   "metadata": {},
   "outputs": [
    {
     "name": "stdout",
     "output_type": "stream",
     "text": [
      "5\n",
      "15\n",
      "25\n",
      "35\n",
      "45\n",
      "55\n",
      "65\n",
      "75\n",
      "85\n",
      "95\n"
     ]
    }
   ],
   "source": [
    "for i in range(5,100,10):\n",
    "    print(i)"
   ]
  },
  {
   "cell_type": "code",
   "execution_count": 76,
   "metadata": {},
   "outputs": [
    {
     "name": "stdout",
     "output_type": "stream",
     "text": [
      "1~100的值是100\n"
     ]
    }
   ],
   "source": [
    "#計算1~100相加總值是\n",
    "result = 0\n",
    "for i in range(1,101):\n",
    "    result = result + 1 \n",
    "print(f\"1~100的值是{result}\")"
   ]
  },
  {
   "cell_type": "code",
   "execution_count": 77,
   "metadata": {},
   "outputs": [
    {
     "data": {
      "text/plain": [
       "369729637649726772657187905628805440595668764281741102430259972423552570455277523421410650010128232727940978889548326540119429996769494359451621570193644014418071060667659301384999779999159200499899"
      ]
     },
     "execution_count": 77,
     "metadata": {},
     "output_type": "execute_result"
    }
   ],
   "source": [
    "99**99"
   ]
  }
 ],
 "metadata": {
  "kernelspec": {
   "display_name": "Python 3",
   "language": "python",
   "name": "python3"
  },
  "language_info": {
   "codemirror_mode": {
    "name": "ipython",
    "version": 3
   },
   "file_extension": ".py",
   "mimetype": "text/x-python",
   "name": "python",
   "nbconvert_exporter": "python",
   "pygments_lexer": "ipython3",
   "version": "3.10.8"
  },
  "orig_nbformat": 4
 },
 "nbformat": 4,
 "nbformat_minor": 2
}
