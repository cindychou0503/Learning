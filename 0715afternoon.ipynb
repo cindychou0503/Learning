{
 "cells": [
  {
   "cell_type": "code",
   "execution_count": 1,
   "metadata": {},
   "outputs": [
    {
     "name": "stdout",
     "output_type": "stream",
     "text": [
      "Good afternoon\n"
     ]
    }
   ],
   "source": [
    "print('Good afternoon')"
   ]
  },
  {
   "cell_type": "code",
   "execution_count": 3,
   "metadata": {},
   "outputs": [],
   "source": [
    "text = '''python與中文\n",
    "1. 我們來試試看中文儲存能力。\n",
    "2. 許這個字會有編碼衝突風險。\n",
    "3. 犇這個字必須是utf8編碼才有。'''\n",
    "\n",
    "file = open('hello.text',mode='w')\n",
    "print(text,file=file)\n",
    "file.close()\n"
   ]
  },
  {
   "cell_type": "code",
   "execution_count": 4,
   "metadata": {},
   "outputs": [
    {
     "name": "stdout",
     "output_type": "stream",
     "text": [
      "python與中文\n",
      "1. 我們來試試看中文儲存能力。\n",
      "2. 許這個字會有編碼衝突風險。\n",
      "3. 犇這個字必須是utf8編碼才有。\n"
     ]
    }
   ],
   "source": [
    "text = '''python與中文\n",
    "1. 我們來試試看中文儲存能力。\n",
    "2. 許這個字會有編碼衝突風險。\n",
    "3. 犇這個字必須是utf8編碼才有。'''\n",
    "\n",
    "file = open('hello.text',mode='w')\n",
    "print(text)\n",
    "file.close()"
   ]
  },
  {
   "cell_type": "code",
   "execution_count": 5,
   "metadata": {},
   "outputs": [
    {
     "name": "stdout",
     "output_type": "stream",
     "text": [
      "python與中文\n",
      "1. 天主經。\n",
      "2. 聖母經。\n",
      "3. 光榮頌。\n"
     ]
    }
   ],
   "source": [
    "text = '''python與中文\n",
    "1. 天主經。\n",
    "2. 聖母經。\n",
    "3. 光榮頌。'''\n",
    "\n",
    "file = open('hello.text',mode='w')\n",
    "print(text)\n",
    "file.close()"
   ]
  },
  {
   "cell_type": "code",
   "execution_count": 6,
   "metadata": {},
   "outputs": [],
   "source": [
    "text = '''python與中文\n",
    "1. 我們來試試看中文儲存能力。\n",
    "2. 許這個字會有編碼衝突風險。\n",
    "3. 犇這個字必須是utf8編碼才有。'''\n",
    "\n",
    "file = open('hello.text',mode='w',encoding=\"utf-8\")\n",
    "print(text,file=file)\n",
    "file.close()"
   ]
  },
  {
   "cell_type": "code",
   "execution_count": 8,
   "metadata": {},
   "outputs": [],
   "source": [
    "file = open('hello1.text',mode='w',encoding=\"utf-8\")\n",
    "file.write(\"這是第一行\\n\")\n",
    "file.write(\"這是第二行\\n\")\n",
    "file.writelines(\"\"\"\n",
    "這是第三行\\n\n",
    "這是第四行\\n\n",
    "這是第五行\\n\"\"\")\n",
    "file.close()"
   ]
  },
  {
   "cell_type": "code",
   "execution_count": null,
   "metadata": {},
   "outputs": [],
   "source": [
    "file = open('hello1-1.text',mode='w',encoding=\"utf-8\")\n",
    "file.write(\"這是第一行\\n\")\n",
    "file.write(\"這是第二行\\n\")\n",
    "file.writelines(\"\"\"這是第三行\n",
    "這是第四行\n",
    "這是第五行\n",
    "\"\"\")\n",
    "file.close()"
   ]
  }
 ],
 "metadata": {
  "kernelspec": {
   "display_name": "Python 3",
   "language": "python",
   "name": "python3"
  },
  "language_info": {
   "codemirror_mode": {
    "name": "ipython",
    "version": 3
   },
   "file_extension": ".py",
   "mimetype": "text/x-python",
   "name": "python",
   "nbconvert_exporter": "python",
   "pygments_lexer": "ipython3",
   "version": "3.10.12"
  },
  "orig_nbformat": 4
 },
 "nbformat": 4,
 "nbformat_minor": 2
}
